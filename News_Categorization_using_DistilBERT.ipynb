{
  "nbformat": 4,
  "nbformat_minor": 0,
  "metadata": {
    "accelerator": "GPU",
    "colab": {
      "name": "News Categorization using DistilBERT.ipynb",
      "provenance": [],
      "collapsed_sections": [],
      "toc_visible": true,
      "authorship_tag": "ABX9TyN5wk2OFMhfnfpscGc4sX03",
      "include_colab_link": true
    },
    "kernelspec": {
      "display_name": "Python 3",
      "name": "python3"
    },
    "widgets": {
      "application/vnd.jupyter.widget-state+json": {
        "71cb513ee1814ba4beac75ecaf8037db": {
          "model_module": "@jupyter-widgets/controls",
          "model_name": "HBoxModel",
          "state": {
            "_view_name": "HBoxView",
            "_dom_classes": [],
            "_model_name": "HBoxModel",
            "_view_module": "@jupyter-widgets/controls",
            "_model_module_version": "1.5.0",
            "_view_count": null,
            "_view_module_version": "1.5.0",
            "box_style": "",
            "layout": "IPY_MODEL_690841c2551a46fbb82092c09c10fc2f",
            "_model_module": "@jupyter-widgets/controls",
            "children": [
              "IPY_MODEL_756ecb2a5cc046be98f248a50d187903",
              "IPY_MODEL_055193de8dde44288205505da68ab83e"
            ]
          }
        },
        "690841c2551a46fbb82092c09c10fc2f": {
          "model_module": "@jupyter-widgets/base",
          "model_name": "LayoutModel",
          "state": {
            "_view_name": "LayoutView",
            "grid_template_rows": null,
            "right": null,
            "justify_content": null,
            "_view_module": "@jupyter-widgets/base",
            "overflow": null,
            "_model_module_version": "1.2.0",
            "_view_count": null,
            "flex_flow": null,
            "width": null,
            "min_width": null,
            "border": null,
            "align_items": null,
            "bottom": null,
            "_model_module": "@jupyter-widgets/base",
            "top": null,
            "grid_column": null,
            "overflow_y": null,
            "overflow_x": null,
            "grid_auto_flow": null,
            "grid_area": null,
            "grid_template_columns": null,
            "flex": null,
            "_model_name": "LayoutModel",
            "justify_items": null,
            "grid_row": null,
            "max_height": null,
            "align_content": null,
            "visibility": null,
            "align_self": null,
            "height": null,
            "min_height": null,
            "padding": null,
            "grid_auto_rows": null,
            "grid_gap": null,
            "max_width": null,
            "order": null,
            "_view_module_version": "1.2.0",
            "grid_template_areas": null,
            "object_position": null,
            "object_fit": null,
            "grid_auto_columns": null,
            "margin": null,
            "display": null,
            "left": null
          }
        },
        "756ecb2a5cc046be98f248a50d187903": {
          "model_module": "@jupyter-widgets/controls",
          "model_name": "FloatProgressModel",
          "state": {
            "_view_name": "ProgressView",
            "style": "IPY_MODEL_f1d91086949e415bbaa64c6b3fe001f4",
            "_dom_classes": [],
            "description": "Downloading: 100%",
            "_model_name": "FloatProgressModel",
            "bar_style": "success",
            "max": 231508,
            "_view_module": "@jupyter-widgets/controls",
            "_model_module_version": "1.5.0",
            "value": 231508,
            "_view_count": null,
            "_view_module_version": "1.5.0",
            "orientation": "horizontal",
            "min": 0,
            "description_tooltip": null,
            "_model_module": "@jupyter-widgets/controls",
            "layout": "IPY_MODEL_35e4c886ab27487aa892c5e1e08d355a"
          }
        },
        "055193de8dde44288205505da68ab83e": {
          "model_module": "@jupyter-widgets/controls",
          "model_name": "HTMLModel",
          "state": {
            "_view_name": "HTMLView",
            "style": "IPY_MODEL_62521c7fdec845c2a57b3ed265a16f52",
            "_dom_classes": [],
            "description": "",
            "_model_name": "HTMLModel",
            "placeholder": "​",
            "_view_module": "@jupyter-widgets/controls",
            "_model_module_version": "1.5.0",
            "value": " 232k/232k [00:00&lt;00:00, 2.85MB/s]",
            "_view_count": null,
            "_view_module_version": "1.5.0",
            "description_tooltip": null,
            "_model_module": "@jupyter-widgets/controls",
            "layout": "IPY_MODEL_12034487ca5f4c6a98809cdb48ac136f"
          }
        },
        "f1d91086949e415bbaa64c6b3fe001f4": {
          "model_module": "@jupyter-widgets/controls",
          "model_name": "ProgressStyleModel",
          "state": {
            "_view_name": "StyleView",
            "_model_name": "ProgressStyleModel",
            "description_width": "initial",
            "_view_module": "@jupyter-widgets/base",
            "_model_module_version": "1.5.0",
            "_view_count": null,
            "_view_module_version": "1.2.0",
            "bar_color": null,
            "_model_module": "@jupyter-widgets/controls"
          }
        },
        "35e4c886ab27487aa892c5e1e08d355a": {
          "model_module": "@jupyter-widgets/base",
          "model_name": "LayoutModel",
          "state": {
            "_view_name": "LayoutView",
            "grid_template_rows": null,
            "right": null,
            "justify_content": null,
            "_view_module": "@jupyter-widgets/base",
            "overflow": null,
            "_model_module_version": "1.2.0",
            "_view_count": null,
            "flex_flow": null,
            "width": null,
            "min_width": null,
            "border": null,
            "align_items": null,
            "bottom": null,
            "_model_module": "@jupyter-widgets/base",
            "top": null,
            "grid_column": null,
            "overflow_y": null,
            "overflow_x": null,
            "grid_auto_flow": null,
            "grid_area": null,
            "grid_template_columns": null,
            "flex": null,
            "_model_name": "LayoutModel",
            "justify_items": null,
            "grid_row": null,
            "max_height": null,
            "align_content": null,
            "visibility": null,
            "align_self": null,
            "height": null,
            "min_height": null,
            "padding": null,
            "grid_auto_rows": null,
            "grid_gap": null,
            "max_width": null,
            "order": null,
            "_view_module_version": "1.2.0",
            "grid_template_areas": null,
            "object_position": null,
            "object_fit": null,
            "grid_auto_columns": null,
            "margin": null,
            "display": null,
            "left": null
          }
        },
        "62521c7fdec845c2a57b3ed265a16f52": {
          "model_module": "@jupyter-widgets/controls",
          "model_name": "DescriptionStyleModel",
          "state": {
            "_view_name": "StyleView",
            "_model_name": "DescriptionStyleModel",
            "description_width": "",
            "_view_module": "@jupyter-widgets/base",
            "_model_module_version": "1.5.0",
            "_view_count": null,
            "_view_module_version": "1.2.0",
            "_model_module": "@jupyter-widgets/controls"
          }
        },
        "12034487ca5f4c6a98809cdb48ac136f": {
          "model_module": "@jupyter-widgets/base",
          "model_name": "LayoutModel",
          "state": {
            "_view_name": "LayoutView",
            "grid_template_rows": null,
            "right": null,
            "justify_content": null,
            "_view_module": "@jupyter-widgets/base",
            "overflow": null,
            "_model_module_version": "1.2.0",
            "_view_count": null,
            "flex_flow": null,
            "width": null,
            "min_width": null,
            "border": null,
            "align_items": null,
            "bottom": null,
            "_model_module": "@jupyter-widgets/base",
            "top": null,
            "grid_column": null,
            "overflow_y": null,
            "overflow_x": null,
            "grid_auto_flow": null,
            "grid_area": null,
            "grid_template_columns": null,
            "flex": null,
            "_model_name": "LayoutModel",
            "justify_items": null,
            "grid_row": null,
            "max_height": null,
            "align_content": null,
            "visibility": null,
            "align_self": null,
            "height": null,
            "min_height": null,
            "padding": null,
            "grid_auto_rows": null,
            "grid_gap": null,
            "max_width": null,
            "order": null,
            "_view_module_version": "1.2.0",
            "grid_template_areas": null,
            "object_position": null,
            "object_fit": null,
            "grid_auto_columns": null,
            "margin": null,
            "display": null,
            "left": null
          }
        },
        "ea1a8eabd1e24dc7b13f2537bcb599a3": {
          "model_module": "@jupyter-widgets/controls",
          "model_name": "HBoxModel",
          "state": {
            "_view_name": "HBoxView",
            "_dom_classes": [],
            "_model_name": "HBoxModel",
            "_view_module": "@jupyter-widgets/controls",
            "_model_module_version": "1.5.0",
            "_view_count": null,
            "_view_module_version": "1.5.0",
            "box_style": "",
            "layout": "IPY_MODEL_c0e5d8675627470db0d4dbf758a7ac04",
            "_model_module": "@jupyter-widgets/controls",
            "children": [
              "IPY_MODEL_6f1e53ae05d54cb890bf21bf91746c79",
              "IPY_MODEL_67505c1554f04486a61957cdf0281e12"
            ]
          }
        },
        "c0e5d8675627470db0d4dbf758a7ac04": {
          "model_module": "@jupyter-widgets/base",
          "model_name": "LayoutModel",
          "state": {
            "_view_name": "LayoutView",
            "grid_template_rows": null,
            "right": null,
            "justify_content": null,
            "_view_module": "@jupyter-widgets/base",
            "overflow": null,
            "_model_module_version": "1.2.0",
            "_view_count": null,
            "flex_flow": null,
            "width": null,
            "min_width": null,
            "border": null,
            "align_items": null,
            "bottom": null,
            "_model_module": "@jupyter-widgets/base",
            "top": null,
            "grid_column": null,
            "overflow_y": null,
            "overflow_x": null,
            "grid_auto_flow": null,
            "grid_area": null,
            "grid_template_columns": null,
            "flex": null,
            "_model_name": "LayoutModel",
            "justify_items": null,
            "grid_row": null,
            "max_height": null,
            "align_content": null,
            "visibility": null,
            "align_self": null,
            "height": null,
            "min_height": null,
            "padding": null,
            "grid_auto_rows": null,
            "grid_gap": null,
            "max_width": null,
            "order": null,
            "_view_module_version": "1.2.0",
            "grid_template_areas": null,
            "object_position": null,
            "object_fit": null,
            "grid_auto_columns": null,
            "margin": null,
            "display": null,
            "left": null
          }
        },
        "6f1e53ae05d54cb890bf21bf91746c79": {
          "model_module": "@jupyter-widgets/controls",
          "model_name": "FloatProgressModel",
          "state": {
            "_view_name": "ProgressView",
            "style": "IPY_MODEL_7b0b519ef11d4df488b8ae62111ab8a6",
            "_dom_classes": [],
            "description": "Downloading: 100%",
            "_model_name": "FloatProgressModel",
            "bar_style": "success",
            "max": 442,
            "_view_module": "@jupyter-widgets/controls",
            "_model_module_version": "1.5.0",
            "value": 442,
            "_view_count": null,
            "_view_module_version": "1.5.0",
            "orientation": "horizontal",
            "min": 0,
            "description_tooltip": null,
            "_model_module": "@jupyter-widgets/controls",
            "layout": "IPY_MODEL_0e40bd29fc7347498720ec3f27b6512a"
          }
        },
        "67505c1554f04486a61957cdf0281e12": {
          "model_module": "@jupyter-widgets/controls",
          "model_name": "HTMLModel",
          "state": {
            "_view_name": "HTMLView",
            "style": "IPY_MODEL_bc6b597328b149d4ae2143d5bdd8bc4f",
            "_dom_classes": [],
            "description": "",
            "_model_name": "HTMLModel",
            "placeholder": "​",
            "_view_module": "@jupyter-widgets/controls",
            "_model_module_version": "1.5.0",
            "value": " 442/442 [00:04&lt;00:00, 109B/s]",
            "_view_count": null,
            "_view_module_version": "1.5.0",
            "description_tooltip": null,
            "_model_module": "@jupyter-widgets/controls",
            "layout": "IPY_MODEL_c859af9b2733471ea7449615712c65cb"
          }
        },
        "7b0b519ef11d4df488b8ae62111ab8a6": {
          "model_module": "@jupyter-widgets/controls",
          "model_name": "ProgressStyleModel",
          "state": {
            "_view_name": "StyleView",
            "_model_name": "ProgressStyleModel",
            "description_width": "initial",
            "_view_module": "@jupyter-widgets/base",
            "_model_module_version": "1.5.0",
            "_view_count": null,
            "_view_module_version": "1.2.0",
            "bar_color": null,
            "_model_module": "@jupyter-widgets/controls"
          }
        },
        "0e40bd29fc7347498720ec3f27b6512a": {
          "model_module": "@jupyter-widgets/base",
          "model_name": "LayoutModel",
          "state": {
            "_view_name": "LayoutView",
            "grid_template_rows": null,
            "right": null,
            "justify_content": null,
            "_view_module": "@jupyter-widgets/base",
            "overflow": null,
            "_model_module_version": "1.2.0",
            "_view_count": null,
            "flex_flow": null,
            "width": null,
            "min_width": null,
            "border": null,
            "align_items": null,
            "bottom": null,
            "_model_module": "@jupyter-widgets/base",
            "top": null,
            "grid_column": null,
            "overflow_y": null,
            "overflow_x": null,
            "grid_auto_flow": null,
            "grid_area": null,
            "grid_template_columns": null,
            "flex": null,
            "_model_name": "LayoutModel",
            "justify_items": null,
            "grid_row": null,
            "max_height": null,
            "align_content": null,
            "visibility": null,
            "align_self": null,
            "height": null,
            "min_height": null,
            "padding": null,
            "grid_auto_rows": null,
            "grid_gap": null,
            "max_width": null,
            "order": null,
            "_view_module_version": "1.2.0",
            "grid_template_areas": null,
            "object_position": null,
            "object_fit": null,
            "grid_auto_columns": null,
            "margin": null,
            "display": null,
            "left": null
          }
        },
        "bc6b597328b149d4ae2143d5bdd8bc4f": {
          "model_module": "@jupyter-widgets/controls",
          "model_name": "DescriptionStyleModel",
          "state": {
            "_view_name": "StyleView",
            "_model_name": "DescriptionStyleModel",
            "description_width": "",
            "_view_module": "@jupyter-widgets/base",
            "_model_module_version": "1.5.0",
            "_view_count": null,
            "_view_module_version": "1.2.0",
            "_model_module": "@jupyter-widgets/controls"
          }
        },
        "c859af9b2733471ea7449615712c65cb": {
          "model_module": "@jupyter-widgets/base",
          "model_name": "LayoutModel",
          "state": {
            "_view_name": "LayoutView",
            "grid_template_rows": null,
            "right": null,
            "justify_content": null,
            "_view_module": "@jupyter-widgets/base",
            "overflow": null,
            "_model_module_version": "1.2.0",
            "_view_count": null,
            "flex_flow": null,
            "width": null,
            "min_width": null,
            "border": null,
            "align_items": null,
            "bottom": null,
            "_model_module": "@jupyter-widgets/base",
            "top": null,
            "grid_column": null,
            "overflow_y": null,
            "overflow_x": null,
            "grid_auto_flow": null,
            "grid_area": null,
            "grid_template_columns": null,
            "flex": null,
            "_model_name": "LayoutModel",
            "justify_items": null,
            "grid_row": null,
            "max_height": null,
            "align_content": null,
            "visibility": null,
            "align_self": null,
            "height": null,
            "min_height": null,
            "padding": null,
            "grid_auto_rows": null,
            "grid_gap": null,
            "max_width": null,
            "order": null,
            "_view_module_version": "1.2.0",
            "grid_template_areas": null,
            "object_position": null,
            "object_fit": null,
            "grid_auto_columns": null,
            "margin": null,
            "display": null,
            "left": null
          }
        },
        "345dd7c20be24ba5bc1b44edc68ff1ec": {
          "model_module": "@jupyter-widgets/controls",
          "model_name": "HBoxModel",
          "state": {
            "_view_name": "HBoxView",
            "_dom_classes": [],
            "_model_name": "HBoxModel",
            "_view_module": "@jupyter-widgets/controls",
            "_model_module_version": "1.5.0",
            "_view_count": null,
            "_view_module_version": "1.5.0",
            "box_style": "",
            "layout": "IPY_MODEL_f64aa96ebccc45a6843f68a0c0237f2e",
            "_model_module": "@jupyter-widgets/controls",
            "children": [
              "IPY_MODEL_261c601dcbc44b9aac1f6087478ba712",
              "IPY_MODEL_61061718ae3544d8b381a171f04936ab"
            ]
          }
        },
        "f64aa96ebccc45a6843f68a0c0237f2e": {
          "model_module": "@jupyter-widgets/base",
          "model_name": "LayoutModel",
          "state": {
            "_view_name": "LayoutView",
            "grid_template_rows": null,
            "right": null,
            "justify_content": null,
            "_view_module": "@jupyter-widgets/base",
            "overflow": null,
            "_model_module_version": "1.2.0",
            "_view_count": null,
            "flex_flow": null,
            "width": null,
            "min_width": null,
            "border": null,
            "align_items": null,
            "bottom": null,
            "_model_module": "@jupyter-widgets/base",
            "top": null,
            "grid_column": null,
            "overflow_y": null,
            "overflow_x": null,
            "grid_auto_flow": null,
            "grid_area": null,
            "grid_template_columns": null,
            "flex": null,
            "_model_name": "LayoutModel",
            "justify_items": null,
            "grid_row": null,
            "max_height": null,
            "align_content": null,
            "visibility": null,
            "align_self": null,
            "height": null,
            "min_height": null,
            "padding": null,
            "grid_auto_rows": null,
            "grid_gap": null,
            "max_width": null,
            "order": null,
            "_view_module_version": "1.2.0",
            "grid_template_areas": null,
            "object_position": null,
            "object_fit": null,
            "grid_auto_columns": null,
            "margin": null,
            "display": null,
            "left": null
          }
        },
        "261c601dcbc44b9aac1f6087478ba712": {
          "model_module": "@jupyter-widgets/controls",
          "model_name": "FloatProgressModel",
          "state": {
            "_view_name": "ProgressView",
            "style": "IPY_MODEL_8e6bb673638a47bbaa891ef8a2a2a5ed",
            "_dom_classes": [],
            "description": "Downloading: 100%",
            "_model_name": "FloatProgressModel",
            "bar_style": "success",
            "max": 267967963,
            "_view_module": "@jupyter-widgets/controls",
            "_model_module_version": "1.5.0",
            "value": 267967963,
            "_view_count": null,
            "_view_module_version": "1.5.0",
            "orientation": "horizontal",
            "min": 0,
            "description_tooltip": null,
            "_model_module": "@jupyter-widgets/controls",
            "layout": "IPY_MODEL_d53252f975a44af0bb9ef9db2a09e95d"
          }
        },
        "61061718ae3544d8b381a171f04936ab": {
          "model_module": "@jupyter-widgets/controls",
          "model_name": "HTMLModel",
          "state": {
            "_view_name": "HTMLView",
            "style": "IPY_MODEL_c20029cd1ce747d6a610608f998cc53a",
            "_dom_classes": [],
            "description": "",
            "_model_name": "HTMLModel",
            "placeholder": "​",
            "_view_module": "@jupyter-widgets/controls",
            "_model_module_version": "1.5.0",
            "value": " 268M/268M [00:03&lt;00:00, 69.0MB/s]",
            "_view_count": null,
            "_view_module_version": "1.5.0",
            "description_tooltip": null,
            "_model_module": "@jupyter-widgets/controls",
            "layout": "IPY_MODEL_6dd63bf410734920a64519f1dbc62f9e"
          }
        },
        "8e6bb673638a47bbaa891ef8a2a2a5ed": {
          "model_module": "@jupyter-widgets/controls",
          "model_name": "ProgressStyleModel",
          "state": {
            "_view_name": "StyleView",
            "_model_name": "ProgressStyleModel",
            "description_width": "initial",
            "_view_module": "@jupyter-widgets/base",
            "_model_module_version": "1.5.0",
            "_view_count": null,
            "_view_module_version": "1.2.0",
            "bar_color": null,
            "_model_module": "@jupyter-widgets/controls"
          }
        },
        "d53252f975a44af0bb9ef9db2a09e95d": {
          "model_module": "@jupyter-widgets/base",
          "model_name": "LayoutModel",
          "state": {
            "_view_name": "LayoutView",
            "grid_template_rows": null,
            "right": null,
            "justify_content": null,
            "_view_module": "@jupyter-widgets/base",
            "overflow": null,
            "_model_module_version": "1.2.0",
            "_view_count": null,
            "flex_flow": null,
            "width": null,
            "min_width": null,
            "border": null,
            "align_items": null,
            "bottom": null,
            "_model_module": "@jupyter-widgets/base",
            "top": null,
            "grid_column": null,
            "overflow_y": null,
            "overflow_x": null,
            "grid_auto_flow": null,
            "grid_area": null,
            "grid_template_columns": null,
            "flex": null,
            "_model_name": "LayoutModel",
            "justify_items": null,
            "grid_row": null,
            "max_height": null,
            "align_content": null,
            "visibility": null,
            "align_self": null,
            "height": null,
            "min_height": null,
            "padding": null,
            "grid_auto_rows": null,
            "grid_gap": null,
            "max_width": null,
            "order": null,
            "_view_module_version": "1.2.0",
            "grid_template_areas": null,
            "object_position": null,
            "object_fit": null,
            "grid_auto_columns": null,
            "margin": null,
            "display": null,
            "left": null
          }
        },
        "c20029cd1ce747d6a610608f998cc53a": {
          "model_module": "@jupyter-widgets/controls",
          "model_name": "DescriptionStyleModel",
          "state": {
            "_view_name": "StyleView",
            "_model_name": "DescriptionStyleModel",
            "description_width": "",
            "_view_module": "@jupyter-widgets/base",
            "_model_module_version": "1.5.0",
            "_view_count": null,
            "_view_module_version": "1.2.0",
            "_model_module": "@jupyter-widgets/controls"
          }
        },
        "6dd63bf410734920a64519f1dbc62f9e": {
          "model_module": "@jupyter-widgets/base",
          "model_name": "LayoutModel",
          "state": {
            "_view_name": "LayoutView",
            "grid_template_rows": null,
            "right": null,
            "justify_content": null,
            "_view_module": "@jupyter-widgets/base",
            "overflow": null,
            "_model_module_version": "1.2.0",
            "_view_count": null,
            "flex_flow": null,
            "width": null,
            "min_width": null,
            "border": null,
            "align_items": null,
            "bottom": null,
            "_model_module": "@jupyter-widgets/base",
            "top": null,
            "grid_column": null,
            "overflow_y": null,
            "overflow_x": null,
            "grid_auto_flow": null,
            "grid_area": null,
            "grid_template_columns": null,
            "flex": null,
            "_model_name": "LayoutModel",
            "justify_items": null,
            "grid_row": null,
            "max_height": null,
            "align_content": null,
            "visibility": null,
            "align_self": null,
            "height": null,
            "min_height": null,
            "padding": null,
            "grid_auto_rows": null,
            "grid_gap": null,
            "max_width": null,
            "order": null,
            "_view_module_version": "1.2.0",
            "grid_template_areas": null,
            "object_position": null,
            "object_fit": null,
            "grid_auto_columns": null,
            "margin": null,
            "display": null,
            "left": null
          }
        }
      }
    }
  },
  "cells": [
    {
      "cell_type": "markdown",
      "metadata": {
        "id": "view-in-github",
        "colab_type": "text"
      },
      "source": [
        "<a href=\"https://colab.research.google.com/github/nadyadtm/BERT-Implementation-in-News-Categorization/blob/main/News_Categorization_using_DistilBERT.ipynb\" target=\"_parent\"><img src=\"https://colab.research.google.com/assets/colab-badge.svg\" alt=\"Open In Colab\"/></a>"
      ]
    },
    {
      "cell_type": "markdown",
      "metadata": {
        "id": "oWPuIReVvVFi"
      },
      "source": [
        "# News Categorization using DistilBERT\r\n",
        "\r\n",
        "Berikut ini adalah implementasi news categorization (Pengkategorian Berita) dengan menggunakan DistilBERT"
      ]
    },
    {
      "cell_type": "markdown",
      "metadata": {
        "id": "NDJPxpG13k6b"
      },
      "source": [
        "## Import Package\r\n",
        "Sebelum memulai implementasi, diperlukan import beberapa package terlebih dahulu dan menginstall package transformer\r\n"
      ]
    },
    {
      "cell_type": "code",
      "metadata": {
        "colab": {
          "base_uri": "https://localhost:8080/"
        },
        "id": "f6BJDQCiB3a-",
        "outputId": "65bf1ece-6a0c-4780-d860-f53d9452390a"
      },
      "source": [
        "# mount google drive\r\n",
        "from google.colab import drive\r\n",
        "drive.mount('/content/drive')\r\n",
        "\r\n",
        "#install package transformes dan lakukan import\r\n",
        "!pip install transformers==3\r\n",
        "import transformers\r\n",
        "from transformers import DistilBertModel, DistilBertTokenizer, AdamW, get_linear_schedule_with_warmup\r\n",
        "\r\n",
        "#import package pytorch\r\n",
        "import torch\r\n",
        "from torch import nn, optim\r\n",
        "from torch.utils.data import Dataset, DataLoader\r\n",
        "\r\n",
        "#import package sklearn\r\n",
        "from sklearn.model_selection import train_test_split\r\n",
        "from sklearn.metrics import confusion_matrix, classification_report\r\n",
        "\r\n",
        "#import numpy, pandas\r\n",
        "import numpy as np\r\n",
        "import pandas as pd\r\n",
        "\r\n",
        "import seaborn as sns\r\n",
        "from pylab import rcParams\r\n",
        "import matplotlib.pyplot as plt\r\n",
        "from matplotlib import rc\r\n",
        "from collections import defaultdict\r\n",
        "from textwrap import wrap\r\n",
        "\r\n",
        "#import os\r\n",
        "import os\r\n",
        "os.environ['CUDA_LAUNCH_BLOCKING'] = \"1\"\r\n",
        "\r\n",
        "RANDOM_SEED = 42\r\n",
        "np.random.seed(RANDOM_SEED)\r\n",
        "torch.manual_seed(RANDOM_SEED)"
      ],
      "execution_count": 1,
      "outputs": [
        {
          "output_type": "stream",
          "text": [
            "Mounted at /content/drive\n",
            "Collecting transformers==3\n",
            "\u001b[?25l  Downloading https://files.pythonhosted.org/packages/9c/35/1c3f6e62d81f5f0daff1384e6d5e6c5758682a8357ebc765ece2b9def62b/transformers-3.0.0-py3-none-any.whl (754kB)\n",
            "\u001b[K     |████████████████████████████████| 757kB 15.2MB/s \n",
            "\u001b[?25hRequirement already satisfied: requests in /usr/local/lib/python3.6/dist-packages (from transformers==3) (2.23.0)\n",
            "Requirement already satisfied: tqdm>=4.27 in /usr/local/lib/python3.6/dist-packages (from transformers==3) (4.41.1)\n",
            "Requirement already satisfied: filelock in /usr/local/lib/python3.6/dist-packages (from transformers==3) (3.0.12)\n",
            "Collecting tokenizers==0.8.0-rc4\n",
            "\u001b[?25l  Downloading https://files.pythonhosted.org/packages/e8/bd/e5abec46af977c8a1375c1dca7cb1e5b3ec392ef279067af7f6bc50491a0/tokenizers-0.8.0rc4-cp36-cp36m-manylinux1_x86_64.whl (3.0MB)\n",
            "\u001b[K     |████████████████████████████████| 3.0MB 50.1MB/s \n",
            "\u001b[?25hRequirement already satisfied: dataclasses; python_version < \"3.7\" in /usr/local/lib/python3.6/dist-packages (from transformers==3) (0.8)\n",
            "Requirement already satisfied: regex!=2019.12.17 in /usr/local/lib/python3.6/dist-packages (from transformers==3) (2019.12.20)\n",
            "Collecting sentencepiece\n",
            "\u001b[?25l  Downloading https://files.pythonhosted.org/packages/14/67/e42bd1181472c95c8cda79305df848264f2a7f62740995a46945d9797b67/sentencepiece-0.1.95-cp36-cp36m-manylinux2014_x86_64.whl (1.2MB)\n",
            "\u001b[K     |████████████████████████████████| 1.2MB 45.4MB/s \n",
            "\u001b[?25hRequirement already satisfied: numpy in /usr/local/lib/python3.6/dist-packages (from transformers==3) (1.19.5)\n",
            "Requirement already satisfied: packaging in /usr/local/lib/python3.6/dist-packages (from transformers==3) (20.9)\n",
            "Collecting sacremoses\n",
            "\u001b[?25l  Downloading https://files.pythonhosted.org/packages/7d/34/09d19aff26edcc8eb2a01bed8e98f13a1537005d31e95233fd48216eed10/sacremoses-0.0.43.tar.gz (883kB)\n",
            "\u001b[K     |████████████████████████████████| 890kB 43.3MB/s \n",
            "\u001b[?25hRequirement already satisfied: urllib3!=1.25.0,!=1.25.1,<1.26,>=1.21.1 in /usr/local/lib/python3.6/dist-packages (from requests->transformers==3) (1.24.3)\n",
            "Requirement already satisfied: certifi>=2017.4.17 in /usr/local/lib/python3.6/dist-packages (from requests->transformers==3) (2020.12.5)\n",
            "Requirement already satisfied: chardet<4,>=3.0.2 in /usr/local/lib/python3.6/dist-packages (from requests->transformers==3) (3.0.4)\n",
            "Requirement already satisfied: idna<3,>=2.5 in /usr/local/lib/python3.6/dist-packages (from requests->transformers==3) (2.10)\n",
            "Requirement already satisfied: pyparsing>=2.0.2 in /usr/local/lib/python3.6/dist-packages (from packaging->transformers==3) (2.4.7)\n",
            "Requirement already satisfied: six in /usr/local/lib/python3.6/dist-packages (from sacremoses->transformers==3) (1.15.0)\n",
            "Requirement already satisfied: click in /usr/local/lib/python3.6/dist-packages (from sacremoses->transformers==3) (7.1.2)\n",
            "Requirement already satisfied: joblib in /usr/local/lib/python3.6/dist-packages (from sacremoses->transformers==3) (1.0.0)\n",
            "Building wheels for collected packages: sacremoses\n",
            "  Building wheel for sacremoses (setup.py) ... \u001b[?25l\u001b[?25hdone\n",
            "  Created wheel for sacremoses: filename=sacremoses-0.0.43-cp36-none-any.whl size=893261 sha256=67f419fa38b4514f5fc7e0897b152acf3d1e5629d74c45120650ca40acd1082b\n",
            "  Stored in directory: /root/.cache/pip/wheels/29/3c/fd/7ce5c3f0666dab31a50123635e6fb5e19ceb42ce38d4e58f45\n",
            "Successfully built sacremoses\n",
            "Installing collected packages: tokenizers, sentencepiece, sacremoses, transformers\n",
            "Successfully installed sacremoses-0.0.43 sentencepiece-0.1.95 tokenizers-0.8.0rc4 transformers-3.0.0\n"
          ],
          "name": "stdout"
        },
        {
          "output_type": "execute_result",
          "data": {
            "text/plain": [
              "<torch._C.Generator at 0x7fd2605fd438>"
            ]
          },
          "metadata": {
            "tags": []
          },
          "execution_count": 1
        }
      ]
    },
    {
      "cell_type": "markdown",
      "metadata": {
        "id": "JHD_07WS6SW3"
      },
      "source": [
        "##Set GPU\r\n",
        "Sebelum memulai pelatihan, diperlukan untuk set GPU untuk menjalankan Pytorch"
      ]
    },
    {
      "cell_type": "code",
      "metadata": {
        "colab": {
          "base_uri": "https://localhost:8080/"
        },
        "id": "5FyHj5iP-ycS",
        "outputId": "aa83196f-12ac-4608-b686-b8c198341b86"
      },
      "source": [
        "#mengecek apakah terdapat GPU pada komputer\r\n",
        "if torch.cuda.is_available():       \r\n",
        "    device = torch.device(\"cuda\")\r\n",
        "    print(f'There are {torch.cuda.device_count()} GPU(s) available.')\r\n",
        "    print('Device name:', torch.cuda.get_device_name(0))\r\n",
        "#jika tidak ada maka gunakan CPU untuk menjalankan program\r\n",
        "else:\r\n",
        "    print('No GPU available, using the CPU instead.')\r\n",
        "    device = torch.device(\"cpu\")"
      ],
      "execution_count": 2,
      "outputs": [
        {
          "output_type": "stream",
          "text": [
            "There are 1 GPU(s) available.\n",
            "Device name: Tesla T4\n"
          ],
          "name": "stdout"
        }
      ]
    },
    {
      "cell_type": "markdown",
      "metadata": {
        "id": "matmQgRv3ny5"
      },
      "source": [
        "## Load dan Split Train dan Test\r\n",
        "Berikut ini adalah langkah untuk load data train"
      ]
    },
    {
      "cell_type": "code",
      "metadata": {
        "colab": {
          "base_uri": "https://localhost:8080/",
          "height": 206
        },
        "id": "yMbdY2TgEWhv",
        "outputId": "300ab2a9-f6de-4810-b654-5b40091e8e9b"
      },
      "source": [
        "#Load data train\r\n",
        "df_train = pd.read_csv('drive/My Drive/SMT 2/NLP/Tugas 2/Data_Train.csv',encoding='cp1252')\r\n",
        "df_train.tail()"
      ],
      "execution_count": 3,
      "outputs": [
        {
          "output_type": "execute_result",
          "data": {
            "text/html": [
              "<div>\n",
              "<style scoped>\n",
              "    .dataframe tbody tr th:only-of-type {\n",
              "        vertical-align: middle;\n",
              "    }\n",
              "\n",
              "    .dataframe tbody tr th {\n",
              "        vertical-align: top;\n",
              "    }\n",
              "\n",
              "    .dataframe thead th {\n",
              "        text-align: right;\n",
              "    }\n",
              "</style>\n",
              "<table border=\"1\" class=\"dataframe\">\n",
              "  <thead>\n",
              "    <tr style=\"text-align: right;\">\n",
              "      <th></th>\n",
              "      <th>STORY</th>\n",
              "      <th>SECTION</th>\n",
              "    </tr>\n",
              "  </thead>\n",
              "  <tbody>\n",
              "    <tr>\n",
              "      <th>7623</th>\n",
              "      <td>Karnataka has been a Congress bastion, but it ...</td>\n",
              "      <td>0</td>\n",
              "    </tr>\n",
              "    <tr>\n",
              "      <th>7624</th>\n",
              "      <td>The film, which also features Janhvi Kapoor, w...</td>\n",
              "      <td>2</td>\n",
              "    </tr>\n",
              "    <tr>\n",
              "      <th>7625</th>\n",
              "      <td>The database has been created after bringing t...</td>\n",
              "      <td>1</td>\n",
              "    </tr>\n",
              "    <tr>\n",
              "      <th>7626</th>\n",
              "      <td>The state, which has had an uneasy relationshi...</td>\n",
              "      <td>0</td>\n",
              "    </tr>\n",
              "    <tr>\n",
              "      <th>7627</th>\n",
              "      <td>Virus stars Kunchacko Boban, Tovino Thomas, In...</td>\n",
              "      <td>2</td>\n",
              "    </tr>\n",
              "  </tbody>\n",
              "</table>\n",
              "</div>"
            ],
            "text/plain": [
              "                                                  STORY  SECTION\n",
              "7623  Karnataka has been a Congress bastion, but it ...        0\n",
              "7624  The film, which also features Janhvi Kapoor, w...        2\n",
              "7625  The database has been created after bringing t...        1\n",
              "7626  The state, which has had an uneasy relationshi...        0\n",
              "7627  Virus stars Kunchacko Boban, Tovino Thomas, In...        2"
            ]
          },
          "metadata": {
            "tags": []
          },
          "execution_count": 3
        }
      ]
    },
    {
      "cell_type": "markdown",
      "metadata": {
        "id": "NVn8BPD-8__d"
      },
      "source": [
        "Kemudian lakukan pembagian data train, validasi, dan data testnya dengan menggunakan lib sklearn. Pembagiannya adalah 90% data train, 5% data validasi, dan 5% data test"
      ]
    },
    {
      "cell_type": "code",
      "metadata": {
        "id": "LNw7WZUt9DFR"
      },
      "source": [
        "X = df_train\r\n",
        "\r\n",
        "# split data train dan validasi sebesar 90% train dan 10% val\r\n",
        "X_train, X_val =\\\r\n",
        "    train_test_split(X, test_size=0.1, random_state=2020)\r\n",
        "\r\n",
        "# split data validasi menjadi data val dan test menjadi setengah (5% val dan 5% test)\r\n",
        "X_val, X_test =\\\r\n",
        "    train_test_split(X_val, test_size=0.5, random_state=2020)"
      ],
      "execution_count": 4,
      "outputs": []
    },
    {
      "cell_type": "code",
      "metadata": {
        "colab": {
          "base_uri": "https://localhost:8080/"
        },
        "id": "b3zuvTQb-EfW",
        "outputId": "242fedd3-b615-4f56-e3ad-10fced937ef8"
      },
      "source": [
        "print(\"Jumlah Data Train : \", X_train.shape[0])\r\n",
        "print(\"Jumlah Data Validasi : \", X_val.shape[0])\r\n",
        "print(\"Jumlah Data Test : \", X_test.shape[0])"
      ],
      "execution_count": 5,
      "outputs": [
        {
          "output_type": "stream",
          "text": [
            "Jumlah Data Train :  6865\n",
            "Jumlah Data Validasi :  381\n",
            "Jumlah Data Test :  382\n"
          ],
          "name": "stdout"
        }
      ]
    },
    {
      "cell_type": "markdown",
      "metadata": {
        "id": "IELt6hLV8QAJ"
      },
      "source": [
        "## Preprocessing\r\n",
        "Preprocessing yang dilakukan pada task ini adalah lowercase dan tokenisasi yang dilakukan oleh package dari BERT."
      ]
    },
    {
      "cell_type": "code",
      "metadata": {
        "id": "RJzgCrNB5JfG",
        "colab": {
          "base_uri": "https://localhost:8080/",
          "height": 68,
          "referenced_widgets": [
            "71cb513ee1814ba4beac75ecaf8037db",
            "690841c2551a46fbb82092c09c10fc2f",
            "756ecb2a5cc046be98f248a50d187903",
            "055193de8dde44288205505da68ab83e",
            "f1d91086949e415bbaa64c6b3fe001f4",
            "35e4c886ab27487aa892c5e1e08d355a",
            "62521c7fdec845c2a57b3ed265a16f52",
            "12034487ca5f4c6a98809cdb48ac136f"
          ]
        },
        "outputId": "98274289-ba49-4f28-b5ae-8a82c3647509"
      },
      "source": [
        "# nama pretrained model\r\n",
        "PRE_TRAINED_MODEL_NAME = 'distilbert-base-uncased'\r\n",
        "\r\n",
        "#inisiasi tokenizer dari BERT\r\n",
        "tokenizer = DistilBertTokenizer.from_pretrained(PRE_TRAINED_MODEL_NAME, do_lower_case=True)"
      ],
      "execution_count": 6,
      "outputs": [
        {
          "output_type": "display_data",
          "data": {
            "application/vnd.jupyter.widget-view+json": {
              "model_id": "71cb513ee1814ba4beac75ecaf8037db",
              "version_minor": 0,
              "version_major": 2
            },
            "text/plain": [
              "HBox(children=(FloatProgress(value=0.0, description='Downloading', max=231508.0, style=ProgressStyle(descripti…"
            ]
          },
          "metadata": {
            "tags": []
          }
        },
        {
          "output_type": "stream",
          "text": [
            "\n"
          ],
          "name": "stdout"
        }
      ]
    },
    {
      "cell_type": "code",
      "metadata": {
        "id": "XQ1jwk_uRvxM"
      },
      "source": [
        "# kelas news dataset untuk encode tokenizer\r\n",
        "class NewsDataset(Dataset):\r\n",
        "\r\n",
        "  def __init__(self, stories, targets, tokenizer, max_len):\r\n",
        "    self.stories = stories\r\n",
        "    self.targets = targets\r\n",
        "    self.tokenizer = tokenizer\r\n",
        "    self.max_len = max_len\r\n",
        "  \r\n",
        "  def __len__(self):\r\n",
        "    return len(self.stories)\r\n",
        "  \r\n",
        "  def __getitem__(self, item):\r\n",
        "    story = str(self.stories[item])\r\n",
        "    target = self.targets[item]\r\n",
        "\r\n",
        "    encoding = self.tokenizer.encode_plus(\r\n",
        "      story,                      #data yang ingin di tokenisasi\r\n",
        "      add_special_tokens=True,    #memberikan token khusus, yaitu [CLS] dan [SEP]\r\n",
        "      max_length=self.max_len,    #inisiasi maksimal panjang teks yang di klasifikasikan\r\n",
        "      return_token_type_ids=False,\r\n",
        "      pad_to_max_length=True,     # melakukan padding sampai max length textnya\r\n",
        "      truncation=True,            # text dipotong jika length asli melebihi max length\r\n",
        "      return_attention_mask=True, #mengembalikan attention mask\r\n",
        "      return_tensors='pt'         # mengembalikan pytorch tensor\r\n",
        "    )\r\n",
        "\r\n",
        "    #mengembalikan text, input_id, attention_mask, dan kelas\r\n",
        "    return {\r\n",
        "      'story_text': story,\r\n",
        "      'input_ids': encoding['input_ids'].flatten(),\r\n",
        "      'attention_mask': encoding['attention_mask'].flatten(),\r\n",
        "      'targets': torch.tensor(target, dtype=torch.long)\r\n",
        "    }"
      ],
      "execution_count": 7,
      "outputs": []
    },
    {
      "cell_type": "markdown",
      "metadata": {
        "id": "f9UfFJ5FPjvL"
      },
      "source": [
        "Setelah itu membuat data loader"
      ]
    },
    {
      "cell_type": "code",
      "metadata": {
        "id": "J0NJVMTK1UTg"
      },
      "source": [
        "# fungsi untuk load data dan preprocessing\r\n",
        "def create_data_loader(df, tokenizer, max_len, batch_size):\r\n",
        "  ds = NewsDataset(\r\n",
        "    stories=df.STORY.to_numpy(),\r\n",
        "    targets=df.SECTION.to_numpy(),\r\n",
        "    tokenizer=tokenizer,\r\n",
        "    max_len=max_len\r\n",
        "  )\r\n",
        "\r\n",
        "  return DataLoader(\r\n",
        "    ds,\r\n",
        "    batch_size=batch_size,\r\n",
        "    num_workers=4\r\n",
        "  )"
      ],
      "execution_count": 8,
      "outputs": []
    },
    {
      "cell_type": "markdown",
      "metadata": {
        "id": "Ul9U_gfKPntK"
      },
      "source": [
        "Kemudian setting batch size 16 dan MAX_LEN = 30"
      ]
    },
    {
      "cell_type": "code",
      "metadata": {
        "id": "ChQFkwIc0RLL"
      },
      "source": [
        "BATCH_SIZE = 32\r\n",
        "MAX_LEN = 100\r\n",
        "\r\n",
        "#melakukan load data dan preprocessing\r\n",
        "train_data_loader = create_data_loader(X_train, tokenizer, MAX_LEN, BATCH_SIZE)\r\n",
        "val_data_loader = create_data_loader(X_val, tokenizer, MAX_LEN, BATCH_SIZE)\r\n",
        "test_data_loader = create_data_loader(X_test, tokenizer, MAX_LEN, BATCH_SIZE)"
      ],
      "execution_count": 9,
      "outputs": []
    },
    {
      "cell_type": "markdown",
      "metadata": {
        "id": "HCzstg1l3lwz"
      },
      "source": [
        "## Arsitektur Model\r\n",
        "\r\n",
        "Load model BERT dari pretrained"
      ]
    },
    {
      "cell_type": "code",
      "metadata": {
        "id": "8H-4mgb33gwU",
        "colab": {
          "base_uri": "https://localhost:8080/",
          "height": 119,
          "referenced_widgets": [
            "ea1a8eabd1e24dc7b13f2537bcb599a3",
            "c0e5d8675627470db0d4dbf758a7ac04",
            "6f1e53ae05d54cb890bf21bf91746c79",
            "67505c1554f04486a61957cdf0281e12",
            "7b0b519ef11d4df488b8ae62111ab8a6",
            "0e40bd29fc7347498720ec3f27b6512a",
            "bc6b597328b149d4ae2143d5bdd8bc4f",
            "c859af9b2733471ea7449615712c65cb",
            "345dd7c20be24ba5bc1b44edc68ff1ec",
            "f64aa96ebccc45a6843f68a0c0237f2e",
            "261c601dcbc44b9aac1f6087478ba712",
            "61061718ae3544d8b381a171f04936ab",
            "8e6bb673638a47bbaa891ef8a2a2a5ed",
            "d53252f975a44af0bb9ef9db2a09e95d",
            "c20029cd1ce747d6a610608f998cc53a",
            "6dd63bf410734920a64519f1dbc62f9e"
          ]
        },
        "outputId": "99cf364b-1a51-4764-bea0-9708ab7b017f"
      },
      "source": [
        "#inisiasi bert model dari pretrained\r\n",
        "bert_model = DistilBertModel.from_pretrained(PRE_TRAINED_MODEL_NAME)"
      ],
      "execution_count": 10,
      "outputs": [
        {
          "output_type": "display_data",
          "data": {
            "application/vnd.jupyter.widget-view+json": {
              "model_id": "ea1a8eabd1e24dc7b13f2537bcb599a3",
              "version_minor": 0,
              "version_major": 2
            },
            "text/plain": [
              "HBox(children=(FloatProgress(value=0.0, description='Downloading', max=442.0, style=ProgressStyle(description_…"
            ]
          },
          "metadata": {
            "tags": []
          }
        },
        {
          "output_type": "stream",
          "text": [
            "\n"
          ],
          "name": "stdout"
        },
        {
          "output_type": "display_data",
          "data": {
            "application/vnd.jupyter.widget-view+json": {
              "model_id": "345dd7c20be24ba5bc1b44edc68ff1ec",
              "version_minor": 0,
              "version_major": 2
            },
            "text/plain": [
              "HBox(children=(FloatProgress(value=0.0, description='Downloading', max=267967963.0, style=ProgressStyle(descri…"
            ]
          },
          "metadata": {
            "tags": []
          }
        },
        {
          "output_type": "stream",
          "text": [
            "\n"
          ],
          "name": "stdout"
        }
      ]
    },
    {
      "cell_type": "markdown",
      "metadata": {
        "id": "5maazBg8SPCO"
      },
      "source": [
        "Buat arsitektur BERT"
      ]
    },
    {
      "cell_type": "code",
      "metadata": {
        "id": "SDwtoUq-8Slx"
      },
      "source": [
        "class NewsClassifier(nn.Module):\r\n",
        "\r\n",
        "  def __init__(self, n_classes, b_model):\r\n",
        "    super(NewsClassifier, self).__init__()\r\n",
        "    self.bert = b_model\r\n",
        "    self.drop = nn.Dropout(p=0.3)\r\n",
        "    self.out = nn.Linear(self.bert.config.hidden_size, n_classes)\r\n",
        "  \r\n",
        "  def forward(self, input_ids, attention_mask):\r\n",
        "    pooled_output = self.bert(\r\n",
        "      input_ids=input_ids,\r\n",
        "      attention_mask=attention_mask\r\n",
        "    )\r\n",
        "    output = self.drop(pooled_output[0][:, 0, :])\r\n",
        "    return self.out(output)"
      ],
      "execution_count": 11,
      "outputs": []
    },
    {
      "cell_type": "markdown",
      "metadata": {
        "id": "wJMlqGmuSRTc"
      },
      "source": [
        "Assign classifier ke GPU"
      ]
    },
    {
      "cell_type": "code",
      "metadata": {
        "id": "DYmXHjfB8tKL"
      },
      "source": [
        "#inisiasi arsitektur model yang telah disesuaikan\r\n",
        "model = NewsClassifier(4,bert_model)\r\n",
        "model = model.to(device)"
      ],
      "execution_count": 12,
      "outputs": []
    },
    {
      "cell_type": "markdown",
      "metadata": {
        "id": "NJdURMskST4Z"
      },
      "source": [
        "Set optimizer, loss function, dan scheduler"
      ]
    },
    {
      "cell_type": "code",
      "metadata": {
        "id": "OOy0KAQG864C"
      },
      "source": [
        "EPOCHS = 10\r\n",
        "\r\n",
        "#set optimizer\r\n",
        "optimizer = AdamW(model.parameters(), lr=2e-5, correct_bias=False)\r\n",
        "total_steps = len(train_data_loader) * EPOCHS\r\n",
        "\r\n",
        "#set schedule\r\n",
        "scheduler = get_linear_schedule_with_warmup(\r\n",
        "  optimizer,\r\n",
        "  num_warmup_steps=0,\r\n",
        "  num_training_steps=total_steps\r\n",
        ")\r\n",
        "\r\n",
        "#set loss function\r\n",
        "loss_fn = nn.CrossEntropyLoss().to(device)"
      ],
      "execution_count": 13,
      "outputs": []
    },
    {
      "cell_type": "markdown",
      "metadata": {
        "id": "nR3M9hnTSeD-"
      },
      "source": [
        "## Proses Pelatihan\r\n",
        "Membuat fungsi train epoch, untuk mpelatihan pada setiap epoch"
      ]
    },
    {
      "cell_type": "code",
      "metadata": {
        "id": "0657YNGv9IeU"
      },
      "source": [
        "def train_epoch(\r\n",
        "  model, \r\n",
        "  data_loader, \r\n",
        "  loss_fn, \r\n",
        "  optimizer, \r\n",
        "  device, \r\n",
        "  scheduler, \r\n",
        "  n_examples\r\n",
        "):\r\n",
        "  #menandakan bahwa model sedang dilatih\r\n",
        "  model = model.train()\r\n",
        "\r\n",
        "  losses = []\r\n",
        "  correct_predictions = 0\r\n",
        "  \r\n",
        "  #iterasi di setiap data\r\n",
        "  for d in data_loader:\r\n",
        "\r\n",
        "    #mengambil input id, attention mask, dan target dari setiap data\r\n",
        "    input_ids = d[\"input_ids\"].to(device)\r\n",
        "    attention_mask = d[\"attention_mask\"].to(device)\r\n",
        "    targets = d[\"targets\"].to(device)\r\n",
        "\r\n",
        "    #mengeluarkan output dari data tersebut\r\n",
        "    outputs = model(\r\n",
        "      input_ids=input_ids,\r\n",
        "      attention_mask=attention_mask\r\n",
        "    )\r\n",
        "\r\n",
        "    #mengeluarkan prediksi target\r\n",
        "    _, preds = torch.max(outputs, dim=1)\r\n",
        "\r\n",
        "    #mengeluarkan lossnya\r\n",
        "    loss = loss_fn(outputs, targets)\r\n",
        "\r\n",
        "    #menjumlahkan prediksi target yang benar\r\n",
        "    correct_predictions += torch.sum(preds == targets)\r\n",
        "\r\n",
        "    #mengumpulkan loss dari output dan target\r\n",
        "    losses.append(loss.item())\r\n",
        "\r\n",
        "    loss.backward()\r\n",
        "\r\n",
        "    #untuk menghindari vanishing gradient\r\n",
        "    nn.utils.clip_grad_norm_(model.parameters(), max_norm=1.0)\r\n",
        "    optimizer.step()\r\n",
        "    scheduler.step()\r\n",
        "    optimizer.zero_grad()\r\n",
        "\r\n",
        "  #mengembalikan akurasi dan rata-rata loss\r\n",
        "  return correct_predictions.double() / n_examples, np.mean(losses)"
      ],
      "execution_count": 14,
      "outputs": []
    },
    {
      "cell_type": "markdown",
      "metadata": {
        "id": "2G6n4fSNSuXt"
      },
      "source": [
        "Kemudian buat function eval_model untuk evaluasi model"
      ]
    },
    {
      "cell_type": "code",
      "metadata": {
        "id": "EMzVKbJS9OS0"
      },
      "source": [
        "def eval_model(model, data_loader, loss_fn, device, n_examples):\r\n",
        "\r\n",
        "  #menandakan model sedang dievaluasi\r\n",
        "  model = model.eval()\r\n",
        "\r\n",
        "  #array losses dari setiap data dan variabel correct_prediction untuk jumlah prediksi benar\r\n",
        "  losses = []\r\n",
        "  correct_predictions = 0\r\n",
        "\r\n",
        "  with torch.no_grad():\r\n",
        "    for d in data_loader:\r\n",
        "      #mengambil input id, attention mask, dan target dari setiap data\r\n",
        "      input_ids = d[\"input_ids\"].to(device)\r\n",
        "      attention_mask = d[\"attention_mask\"].to(device)\r\n",
        "      targets = d[\"targets\"].to(device)\r\n",
        "\r\n",
        "      #mengambil output dari data\r\n",
        "      outputs = model(\r\n",
        "        input_ids=input_ids,\r\n",
        "        attention_mask=attention_mask\r\n",
        "      )\r\n",
        "\r\n",
        "      #mengambil kelas prediksi\r\n",
        "      _, preds = torch.max(outputs, dim=1)\r\n",
        "      \r\n",
        "      #mengeluarkan loss dari output dan targets\r\n",
        "      loss = loss_fn(outputs, targets)\r\n",
        "\r\n",
        "      #menjumlahkan prediksi yang benar\r\n",
        "      correct_predictions += torch.sum(preds == targets)\r\n",
        "      losses.append(loss.item())\r\n",
        "\r\n",
        "  #mengembalikan akurasi dan rata-rata loss\r\n",
        "  return correct_predictions.double() / n_examples, np.mean(losses)"
      ],
      "execution_count": 15,
      "outputs": []
    },
    {
      "cell_type": "markdown",
      "metadata": {
        "id": "QECP2Ty2Syc5"
      },
      "source": [
        "## DistilBERT base uncased"
      ]
    },
    {
      "cell_type": "code",
      "metadata": {
        "colab": {
          "base_uri": "https://localhost:8080/"
        },
        "id": "A4ssmWYe9QzC",
        "outputId": "26299638-78a6-4954-bbe7-0d5d92b84fc9"
      },
      "source": [
        "history = defaultdict(list)\r\n",
        "best_accuracy = 0\r\n",
        "\r\n",
        "#Iterasi epoch\r\n",
        "for epoch in range(EPOCHS):\r\n",
        "\r\n",
        "  print(f'Epoch {epoch + 1}/{EPOCHS}')\r\n",
        "  print('-' * 10)\r\n",
        "\r\n",
        "  #memanggil fungsi train epoch\r\n",
        "  train_acc, train_loss = train_epoch(\r\n",
        "    model,\r\n",
        "    train_data_loader,    \r\n",
        "    loss_fn, \r\n",
        "    optimizer, \r\n",
        "    device, \r\n",
        "    scheduler, \r\n",
        "    len(X_train)\r\n",
        "  )\r\n",
        "\r\n",
        "  #mencetak train loss dan accuracy\r\n",
        "  print(f'Train loss {train_loss} accuracy {train_acc}')\r\n",
        "\r\n",
        "  #memanggil fungsi eval model\r\n",
        "  val_acc, val_loss = eval_model(\r\n",
        "    model,\r\n",
        "    val_data_loader,\r\n",
        "    loss_fn, \r\n",
        "    device, \r\n",
        "    len(X_val)\r\n",
        "  )\r\n",
        "\r\n",
        "  #mencetak val loss dan accuracy\r\n",
        "  print(f'Val   loss {val_loss} accuracy {val_acc}')\r\n",
        "  print()\r\n",
        "\r\n",
        "  #menampung history train dan val\r\n",
        "  history['train_acc'].append(train_acc)\r\n",
        "  history['train_loss'].append(train_loss)\r\n",
        "  history['val_acc'].append(val_acc)\r\n",
        "  history['val_loss'].append(val_loss)\r\n",
        "\r\n",
        "  #jika akurasi val lebih besar dari best accuracy, maka model akan disimpan\r\n",
        "  if val_acc > best_accuracy:\r\n",
        "    torch.save(model.state_dict(), 'best_model_state.bin')\r\n",
        "    best_accuracy = val_acc"
      ],
      "execution_count": 16,
      "outputs": [
        {
          "output_type": "stream",
          "text": [
            "Epoch 1/10\n",
            "----------\n",
            "Train loss 0.15899554078553824 accuracy 0.9529497450837582\n",
            "Val   loss 0.06957495645231877 accuracy 0.973753280839895\n",
            "\n",
            "Epoch 2/10\n",
            "----------\n",
            "Train loss 0.03261850493591885 accuracy 0.9902403495994173\n",
            "Val   loss 0.0510117013133519 accuracy 0.9816272965879265\n",
            "\n",
            "Epoch 3/10\n",
            "----------\n",
            "Train loss 0.014500614835306742 accuracy 0.9947560087399854\n",
            "Val   loss 0.052435557314311154 accuracy 0.984251968503937\n",
            "\n",
            "Epoch 4/10\n",
            "----------\n",
            "Train loss 0.007726710420210174 accuracy 0.9970866715222141\n",
            "Val   loss 0.04911287880289213 accuracy 0.984251968503937\n",
            "\n",
            "Epoch 5/10\n",
            "----------\n",
            "Train loss 0.006501164074803075 accuracy 0.9973780043699927\n",
            "Val   loss 0.051315930463412464 accuracy 0.984251968503937\n",
            "\n",
            "Epoch 6/10\n",
            "----------\n",
            "Train loss 0.005937444943823678 accuracy 0.9975236707938819\n",
            "Val   loss 0.05163827854024324 accuracy 0.9816272965879265\n",
            "\n",
            "Epoch 7/10\n",
            "----------\n",
            "Train loss 0.005261013404734238 accuracy 0.9978150036416605\n",
            "Val   loss 0.050152914449427044 accuracy 0.9816272965879265\n",
            "\n",
            "Epoch 8/10\n",
            "----------\n",
            "Train loss 0.00476579655450498 accuracy 0.9978150036416605\n",
            "Val   loss 0.050039755709197685 accuracy 0.9868766404199475\n",
            "\n",
            "Epoch 9/10\n",
            "----------\n",
            "Train loss 0.0044389630111508335 accuracy 0.9975236707938819\n",
            "Val   loss 0.052543851459631696 accuracy 0.984251968503937\n",
            "\n",
            "Epoch 10/10\n",
            "----------\n",
            "Train loss 0.00416792421567871 accuracy 0.9981063364894391\n",
            "Val   loss 0.053213568398253606 accuracy 0.984251968503937\n",
            "\n"
          ],
          "name": "stdout"
        }
      ]
    },
    {
      "cell_type": "markdown",
      "metadata": {
        "id": "21cKw-70S4GA"
      },
      "source": [
        "## Proses Pengujian\r\n",
        "Pada proses ini, dilakukan pengujian dengan menggunakan data test, dan berikut ini adalah akurasi train, val, dan testnya"
      ]
    },
    {
      "cell_type": "code",
      "metadata": {
        "id": "GXFUk1vHCmXj",
        "colab": {
          "base_uri": "https://localhost:8080/"
        },
        "outputId": "0a6648ec-d582-4ef7-a4a8-1a5d41f1ec39"
      },
      "source": [
        "train_acc, _ = eval_model( model, train_data_loader,loss_fn,device, len(X_train))\r\n",
        "val_acc, _ = eval_model(model, val_data_loader, loss_fn, device,len(X_val))\r\n",
        "test_acc, _ = eval_model(model,test_data_loader,loss_fn,device,len(X_test))\r\n",
        "\r\n",
        "print(\"Train acc\", train_acc.item())\r\n",
        "print(\"Val acc\", val_acc.item())\r\n",
        "print(\"Test acc\", test_acc.item())"
      ],
      "execution_count": 17,
      "outputs": [
        {
          "output_type": "stream",
          "text": [
            "Train acc 0.9979606700655498\n",
            "Val acc 0.984251968503937\n",
            "Test acc 0.9712041884816754\n"
          ],
          "name": "stdout"
        }
      ]
    },
    {
      "cell_type": "markdown",
      "metadata": {
        "id": "zKfur_DTTDEr"
      },
      "source": [
        "Untuk melihat classification report dibuatlah fungsi get prediction untuk mendapatkan label prediksi dari data uji"
      ]
    },
    {
      "cell_type": "code",
      "metadata": {
        "id": "L1w6aODzImx5"
      },
      "source": [
        "import torch.nn.functional as F\r\n",
        "\r\n",
        "def get_predictions(model, data_loader):\r\n",
        "  model = model.eval()\r\n",
        "  \r\n",
        "  story_texts = []\r\n",
        "  predictions = []\r\n",
        "  prediction_probs = []\r\n",
        "  real_values = []\r\n",
        "\r\n",
        "  with torch.no_grad():\r\n",
        "    for d in data_loader:\r\n",
        "\r\n",
        "      texts = d[\"story_text\"]\r\n",
        "      input_ids = d[\"input_ids\"].to(device)\r\n",
        "      attention_mask = d[\"attention_mask\"].to(device)\r\n",
        "      targets = d[\"targets\"].to(device)\r\n",
        "\r\n",
        "      outputs = model(\r\n",
        "        input_ids=input_ids,\r\n",
        "        attention_mask=attention_mask\r\n",
        "      )\r\n",
        "      _, preds = torch.max(outputs, dim=1)\r\n",
        "\r\n",
        "      probs = F.softmax(outputs, dim=1)\r\n",
        "\r\n",
        "      story_texts.extend(texts)\r\n",
        "      predictions.extend(preds)\r\n",
        "      prediction_probs.extend(probs)\r\n",
        "      real_values.extend(targets)\r\n",
        "\r\n",
        "  predictions = torch.stack(predictions).cpu()\r\n",
        "  prediction_probs = torch.stack(prediction_probs).cpu()\r\n",
        "  real_values = torch.stack(real_values).cpu()\r\n",
        "  return story_texts, predictions, prediction_probs, real_values"
      ],
      "execution_count": 18,
      "outputs": []
    },
    {
      "cell_type": "markdown",
      "metadata": {
        "id": "0n1kh8AmTIwZ"
      },
      "source": [
        "Kemudian berikut ini adalah classification report dari data uji"
      ]
    },
    {
      "cell_type": "code",
      "metadata": {
        "id": "sR904tMhJTcZ"
      },
      "source": [
        "y_story_texts, y_pred, y_pred_probs, y_test = get_predictions(\r\n",
        "  model,\r\n",
        "  test_data_loader\r\n",
        ")"
      ],
      "execution_count": 19,
      "outputs": []
    },
    {
      "cell_type": "code",
      "metadata": {
        "id": "90_Yl7CpJUNU",
        "colab": {
          "base_uri": "https://localhost:8080/"
        },
        "outputId": "1892c5eb-32a6-4d93-b121-0492373b617d"
      },
      "source": [
        "print(classification_report(y_test, y_pred))"
      ],
      "execution_count": 20,
      "outputs": [
        {
          "output_type": "stream",
          "text": [
            "              precision    recall  f1-score   support\n",
            "\n",
            "           0       0.93      0.95      0.94        82\n",
            "           1       0.99      0.97      0.98       149\n",
            "           2       0.98      0.99      0.98        96\n",
            "           3       0.96      0.98      0.97        55\n",
            "\n",
            "    accuracy                           0.97       382\n",
            "   macro avg       0.97      0.97      0.97       382\n",
            "weighted avg       0.97      0.97      0.97       382\n",
            "\n"
          ],
          "name": "stdout"
        }
      ]
    },
    {
      "cell_type": "code",
      "metadata": {
        "id": "JopLUegkDRRO"
      },
      "source": [
        ""
      ],
      "execution_count": 20,
      "outputs": []
    }
  ]
}